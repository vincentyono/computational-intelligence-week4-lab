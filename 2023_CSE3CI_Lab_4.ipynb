{
 "cells": [
  {
   "cell_type": "markdown",
   "metadata": {
    "scrolled": false
   },
   "source": [
    "Previously, in Lab 3, we learned how to use some ML models in scikit learn package on a regression task with some data preprocessing procedures. This week, we are going to review the data preprocessing procedures and apply logistic regression as well as support vector machine (SVM) on a classification task."
   ]
  },
  {
   "cell_type": "markdown",
   "metadata": {},
   "source": [
    "Task\n",
    "\n",
    "This database is collected from the V.A. Medical Center, Long Beach and Cleveland Clinic Foundation. It contains information from 303 patients,  with 14 attributes (13 input variables and 1 target variable). \n",
    "\n",
    "We are using this dataet to Build a machine learning model to predict if a patiet presents heart disease. The detailed information of each variable is as follows:\n",
    "1. age: age in years\n",
    "2. sex (male and female)\n",
    "3. chest pain type\n",
    "4. resting blood pressure (in mm Hg on admission to the hospital)\n",
    "5. serum cholestoral in mg/dl\n",
    "6. fasting blood sugar > 120 mg/dl (true and false)\n",
    "7. resting electrocardiographic results\n",
    "<br>   -- Value 0: normal\n",
    "<br>   -- Value 1: having ST-T wave abnormality (T wave inversions and/or ST elevation or depression of > 0.05 mV)\n",
    "<br>   -- Value 2: showing probable or definite left ventricular hypertrophy by Estes' criteria\n",
    "8. maximum heart rate achieved\n",
    "9. exang: exercise induced angina (1 = yes; 0 = no)\n",
    "10. oldpeak = ST depression induced by exercise relative to rest\n",
    "11. slope: the slope of the peak exercise ST segment\n",
    "<br>   -- Value 1: upsloping\n",
    "<br>   -- Value 2: flat\n",
    "<br>   -- Value 3: downsloping\n",
    "12. number of major vessels (0-3) colored by flourosopy\n",
    "13. thal: 3 = normal; 6 = fixed defect; 7 = reversable defect\n",
    "14. num: diagnosis of heart disease (angiographic disease status)\n",
    "<br>   -- Value 0: absense\n",
    "<br>   -- Value 1: presence\n",
    "\n",
    "more information of the dataset can be found here: https://archive.ics.uci.edu/ml/datasets/Heart+Disease"
   ]
  },
  {
   "cell_type": "markdown",
   "metadata": {},
   "source": [
    "### Load the dataset\n",
    "use pandas to load the csv file \"heart_disease.csv\" provided on LMS, then check dataset length and print the first 5 rows of the dataset"
   ]
  },
  {
   "cell_type": "code",
   "execution_count": 1,
   "metadata": {},
   "outputs": [],
   "source": [
    "import pandas as pd\n",
    "import numpy as np\n",
    "import matplotlib.pyplot as plt\n",
    "\n",
    "df = pd.read_csv(\"./heart_disease.csv\")"
   ]
  },
  {
   "cell_type": "markdown",
   "metadata": {},
   "source": [
    "### Preprocess the dataset\n",
    "##### Check if there is any missing value in the dataset"
   ]
  },
  {
   "cell_type": "code",
   "execution_count": 2,
   "metadata": {},
   "outputs": [
    {
     "data": {
      "text/plain": [
       "Age                                     0\n",
       "Sex                                     0\n",
       "Chest Pain Type                         0\n",
       "Resting Blood Pressure                  0\n",
       "Serum Cholestoral                       0\n",
       "Fasting Blood Sugar                     0\n",
       "Resting electrocardiographic results    0\n",
       "Maximum heart rate achieved             0\n",
       "Exercise induced angina                 0\n",
       "ST depression                           0\n",
       "the slope                               0\n",
       "Number of major vessels                 4\n",
       "thal                                    2\n",
       "Diagnosis                               0\n",
       "dtype: int64"
      ]
     },
     "execution_count": 2,
     "metadata": {},
     "output_type": "execute_result"
    }
   ],
   "source": [
    "df.isna().sum()"
   ]
  },
  {
   "cell_type": "markdown",
   "metadata": {},
   "source": [
    "##### Drop the rows which has missing values"
   ]
  },
  {
   "cell_type": "code",
   "execution_count": 3,
   "metadata": {},
   "outputs": [
    {
     "data": {
      "text/plain": [
       "Age                                     0\n",
       "Sex                                     0\n",
       "Chest Pain Type                         0\n",
       "Resting Blood Pressure                  0\n",
       "Serum Cholestoral                       0\n",
       "Fasting Blood Sugar                     0\n",
       "Resting electrocardiographic results    0\n",
       "Maximum heart rate achieved             0\n",
       "Exercise induced angina                 0\n",
       "ST depression                           0\n",
       "the slope                               0\n",
       "Number of major vessels                 0\n",
       "thal                                    0\n",
       "Diagnosis                               0\n",
       "dtype: int64"
      ]
     },
     "execution_count": 3,
     "metadata": {},
     "output_type": "execute_result"
    }
   ],
   "source": [
    "df = df.dropna()\n",
    "df.isna().sum()"
   ]
  },
  {
   "cell_type": "markdown",
   "metadata": {},
   "source": [
    "##### Check variable data types"
   ]
  },
  {
   "cell_type": "code",
   "execution_count": 4,
   "metadata": {},
   "outputs": [
    {
     "data": {
      "text/plain": [
       "Age                                       int64\n",
       "Sex                                      object\n",
       "Chest Pain Type                          object\n",
       "Resting Blood Pressure                    int64\n",
       "Serum Cholestoral                         int64\n",
       "Fasting Blood Sugar                        bool\n",
       "Resting electrocardiographic results      int64\n",
       "Maximum heart rate achieved               int64\n",
       "Exercise induced angina                   int64\n",
       "ST depression                           float64\n",
       "the slope                                 int64\n",
       "Number of major vessels                 float64\n",
       "thal                                    float64\n",
       "Diagnosis                                 int64\n",
       "dtype: object"
      ]
     },
     "execution_count": 4,
     "metadata": {},
     "output_type": "execute_result"
    }
   ],
   "source": [
    "df.dtypes"
   ]
  },
  {
   "cell_type": "markdown",
   "metadata": {},
   "source": [
    "We found that Number of major vessels and thal should be int but is presented as float, so we transform them into integer type"
   ]
  },
  {
   "cell_type": "code",
   "execution_count": 5,
   "metadata": {},
   "outputs": [],
   "source": [
    "cols = ['Number of major vessels', 'thal']\n",
    "df[cols] = df[cols].astype(int)"
   ]
  },
  {
   "cell_type": "code",
   "execution_count": 6,
   "metadata": {},
   "outputs": [
    {
     "data": {
      "text/plain": [
       "Age                                       int64\n",
       "Sex                                      object\n",
       "Chest Pain Type                          object\n",
       "Resting Blood Pressure                    int64\n",
       "Serum Cholestoral                         int64\n",
       "Fasting Blood Sugar                        bool\n",
       "Resting electrocardiographic results      int64\n",
       "Maximum heart rate achieved               int64\n",
       "Exercise induced angina                   int64\n",
       "ST depression                           float64\n",
       "the slope                                 int64\n",
       "Number of major vessels                   int64\n",
       "thal                                      int64\n",
       "Diagnosis                                 int64\n",
       "dtype: object"
      ]
     },
     "execution_count": 6,
     "metadata": {},
     "output_type": "execute_result"
    }
   ],
   "source": [
    "# check again\n",
    "df.dtypes"
   ]
  },
  {
   "cell_type": "markdown",
   "metadata": {},
   "source": [
    "We can see that these two variables are properly transformed now"
   ]
  },
  {
   "cell_type": "markdown",
   "metadata": {},
   "source": [
    "##### Check if there is any duplicated rows in the dataset"
   ]
  },
  {
   "cell_type": "code",
   "execution_count": 7,
   "metadata": {},
   "outputs": [
    {
     "data": {
      "text/plain": [
       "0"
      ]
     },
     "execution_count": 7,
     "metadata": {},
     "output_type": "execute_result"
    }
   ],
   "source": [
    "df.duplicated().sum()"
   ]
  },
  {
   "cell_type": "markdown",
   "metadata": {},
   "source": [
    "##### check value count for the categorical variables"
   ]
  },
  {
   "cell_type": "code",
   "execution_count": 8,
   "metadata": {},
   "outputs": [
    {
     "data": {
      "text/plain": [
       "Age  Sex   Chest Pain Type   Resting Blood Pressure  Serum Cholestoral  Fasting Blood Sugar  Resting electrocardiographic results  Maximum heart rate achieved  Exercise induced angina  ST depression  the slope  Number of major vessels  thal  Diagnosis\n",
       "29   male  atypical angina   130                     204                False                2                                     202                          0                        0.0            1          0                        3     0            1\n",
       "59   male  typical angina    170                     288                False                2                                     159                          0                        0.2            2          0                        7     1            1\n",
       "                             134                     204                False                0                                     162                          0                        0.8            1          2                        3     1            1\n",
       "           non-anginal pain  150                     212                True                 0                                     157                          0                        1.6            1          0                        3     0            1\n",
       "                             126                     218                True                 0                                     134                          0                        2.2            2          1                        6     1            1\n",
       "                                                                                                                                                                                                                                                              ..\n",
       "51   male  non-anginal pain  94                      227                False                0                                     154                          1                        0.0            1          1                        7     0            1\n",
       "           asymptomatic      140                     299                False                0                                     173                          1                        1.6            1          0                        7     1            1\n",
       "                                                     298                False                0                                     122                          1                        4.2            2          3                        7     1            1\n",
       "                                                     261                False                2                                     186                          1                        0.0            1          0                        3     0            1\n",
       "77   male  asymptomatic      125                     304                False                2                                     162                          1                        0.0            1          3                        3     1            1\n",
       "Name: count, Length: 297, dtype: int64"
      ]
     },
     "execution_count": 8,
     "metadata": {},
     "output_type": "execute_result"
    }
   ],
   "source": [
    "df.value_counts()"
   ]
  },
  {
   "cell_type": "markdown",
   "metadata": {},
   "source": [
    "##### Deal with categorical variables\n",
    "\n",
    "Since both Sex and Fasting Blook Sugar are binary variables, we can also use 0 and 1 to replace them.\n",
    "\n",
    "for example, for variable Sex:\n",
    "<br> 1 = male; 0 = female\n",
    "\n",
    "for variable Fasting Blood Sugar:\n",
    "<br> 1 = True; 0 = False\n",
    "\n",
    "In addition, based on domain expert's advice, we can use the following rule to transform the categorical variable Chest Pain Type:\n",
    "<br>-- Value 1: typical angina\n",
    "<br>-- Value 2: atypical angina\n",
    "<br>-- Value 3: non-anginal pain\n",
    "<br>-- Value 4: asymptomatic"
   ]
  },
  {
   "cell_type": "code",
   "execution_count": 9,
   "metadata": {},
   "outputs": [
    {
     "data": {
      "text/plain": [
       "array(['male', 'female'], dtype=object)"
      ]
     },
     "execution_count": 9,
     "metadata": {},
     "output_type": "execute_result"
    }
   ],
   "source": [
    "df[\"Sex\"].unique()"
   ]
  },
  {
   "cell_type": "code",
   "execution_count": 10,
   "metadata": {},
   "outputs": [
    {
     "data": {
      "text/plain": [
       "array([ True, False])"
      ]
     },
     "execution_count": 10,
     "metadata": {},
     "output_type": "execute_result"
    }
   ],
   "source": [
    "df[\"Fasting Blood Sugar\"].unique()"
   ]
  },
  {
   "cell_type": "code",
   "execution_count": 11,
   "metadata": {},
   "outputs": [],
   "source": [
    "df[\"Sex\"] = df[\"Sex\"].map({\"male\": 1, \"female\": 0})\n",
    "df[\"Fasting Blood Sugar\"] = df[\"Fasting Blood Sugar\"].map({True: 1, False: 0})\n",
    "df[\"Chest Pain Type\"] = df[\"Chest Pain Type\"].map({\"typical angina\": 0, \"asymptomatic\": 1, \"non-anginal pain\": 2, \"atypical angina\": 3})"
   ]
  },
  {
   "cell_type": "markdown",
   "metadata": {},
   "source": [
    "##### Check dataset shape"
   ]
  },
  {
   "cell_type": "code",
   "execution_count": 12,
   "metadata": {},
   "outputs": [
    {
     "data": {
      "text/plain": [
       "(297, 14)"
      ]
     },
     "execution_count": 12,
     "metadata": {},
     "output_type": "execute_result"
    }
   ],
   "source": [
    "df.shape"
   ]
  },
  {
   "cell_type": "markdown",
   "metadata": {},
   "source": [
    "##### Define the input variables and the target variable\n",
    "target variable is the last variable Diagnosis, and input variables are the rest of the columns."
   ]
  },
  {
   "cell_type": "code",
   "execution_count": 13,
   "metadata": {},
   "outputs": [
    {
     "data": {
      "text/html": [
       "<div>\n",
       "<style scoped>\n",
       "    .dataframe tbody tr th:only-of-type {\n",
       "        vertical-align: middle;\n",
       "    }\n",
       "\n",
       "    .dataframe tbody tr th {\n",
       "        vertical-align: top;\n",
       "    }\n",
       "\n",
       "    .dataframe thead th {\n",
       "        text-align: right;\n",
       "    }\n",
       "</style>\n",
       "<table border=\"1\" class=\"dataframe\">\n",
       "  <thead>\n",
       "    <tr style=\"text-align: right;\">\n",
       "      <th></th>\n",
       "      <th>Age</th>\n",
       "      <th>Sex</th>\n",
       "      <th>Chest Pain Type</th>\n",
       "      <th>Resting Blood Pressure</th>\n",
       "      <th>Serum Cholestoral</th>\n",
       "      <th>Fasting Blood Sugar</th>\n",
       "      <th>Resting electrocardiographic results</th>\n",
       "      <th>Maximum heart rate achieved</th>\n",
       "      <th>Exercise induced angina</th>\n",
       "      <th>ST depression</th>\n",
       "      <th>the slope</th>\n",
       "      <th>Number of major vessels</th>\n",
       "      <th>thal</th>\n",
       "    </tr>\n",
       "  </thead>\n",
       "  <tbody>\n",
       "    <tr>\n",
       "      <th>0</th>\n",
       "      <td>63</td>\n",
       "      <td>1</td>\n",
       "      <td>0</td>\n",
       "      <td>145</td>\n",
       "      <td>233</td>\n",
       "      <td>1</td>\n",
       "      <td>2</td>\n",
       "      <td>150</td>\n",
       "      <td>0</td>\n",
       "      <td>2.3</td>\n",
       "      <td>3</td>\n",
       "      <td>0</td>\n",
       "      <td>6</td>\n",
       "    </tr>\n",
       "    <tr>\n",
       "      <th>1</th>\n",
       "      <td>67</td>\n",
       "      <td>1</td>\n",
       "      <td>1</td>\n",
       "      <td>160</td>\n",
       "      <td>286</td>\n",
       "      <td>0</td>\n",
       "      <td>2</td>\n",
       "      <td>108</td>\n",
       "      <td>1</td>\n",
       "      <td>1.5</td>\n",
       "      <td>2</td>\n",
       "      <td>3</td>\n",
       "      <td>3</td>\n",
       "    </tr>\n",
       "    <tr>\n",
       "      <th>2</th>\n",
       "      <td>67</td>\n",
       "      <td>1</td>\n",
       "      <td>1</td>\n",
       "      <td>120</td>\n",
       "      <td>229</td>\n",
       "      <td>0</td>\n",
       "      <td>2</td>\n",
       "      <td>129</td>\n",
       "      <td>1</td>\n",
       "      <td>2.6</td>\n",
       "      <td>2</td>\n",
       "      <td>2</td>\n",
       "      <td>7</td>\n",
       "    </tr>\n",
       "    <tr>\n",
       "      <th>3</th>\n",
       "      <td>37</td>\n",
       "      <td>1</td>\n",
       "      <td>2</td>\n",
       "      <td>130</td>\n",
       "      <td>250</td>\n",
       "      <td>0</td>\n",
       "      <td>0</td>\n",
       "      <td>187</td>\n",
       "      <td>0</td>\n",
       "      <td>3.5</td>\n",
       "      <td>3</td>\n",
       "      <td>0</td>\n",
       "      <td>3</td>\n",
       "    </tr>\n",
       "    <tr>\n",
       "      <th>4</th>\n",
       "      <td>41</td>\n",
       "      <td>0</td>\n",
       "      <td>3</td>\n",
       "      <td>130</td>\n",
       "      <td>204</td>\n",
       "      <td>0</td>\n",
       "      <td>2</td>\n",
       "      <td>172</td>\n",
       "      <td>0</td>\n",
       "      <td>1.4</td>\n",
       "      <td>1</td>\n",
       "      <td>0</td>\n",
       "      <td>3</td>\n",
       "    </tr>\n",
       "    <tr>\n",
       "      <th>...</th>\n",
       "      <td>...</td>\n",
       "      <td>...</td>\n",
       "      <td>...</td>\n",
       "      <td>...</td>\n",
       "      <td>...</td>\n",
       "      <td>...</td>\n",
       "      <td>...</td>\n",
       "      <td>...</td>\n",
       "      <td>...</td>\n",
       "      <td>...</td>\n",
       "      <td>...</td>\n",
       "      <td>...</td>\n",
       "      <td>...</td>\n",
       "    </tr>\n",
       "    <tr>\n",
       "      <th>297</th>\n",
       "      <td>57</td>\n",
       "      <td>0</td>\n",
       "      <td>1</td>\n",
       "      <td>140</td>\n",
       "      <td>241</td>\n",
       "      <td>0</td>\n",
       "      <td>0</td>\n",
       "      <td>123</td>\n",
       "      <td>1</td>\n",
       "      <td>0.2</td>\n",
       "      <td>2</td>\n",
       "      <td>0</td>\n",
       "      <td>7</td>\n",
       "    </tr>\n",
       "    <tr>\n",
       "      <th>298</th>\n",
       "      <td>45</td>\n",
       "      <td>1</td>\n",
       "      <td>0</td>\n",
       "      <td>110</td>\n",
       "      <td>264</td>\n",
       "      <td>0</td>\n",
       "      <td>0</td>\n",
       "      <td>132</td>\n",
       "      <td>0</td>\n",
       "      <td>1.2</td>\n",
       "      <td>2</td>\n",
       "      <td>0</td>\n",
       "      <td>7</td>\n",
       "    </tr>\n",
       "    <tr>\n",
       "      <th>299</th>\n",
       "      <td>68</td>\n",
       "      <td>1</td>\n",
       "      <td>1</td>\n",
       "      <td>144</td>\n",
       "      <td>193</td>\n",
       "      <td>1</td>\n",
       "      <td>0</td>\n",
       "      <td>141</td>\n",
       "      <td>0</td>\n",
       "      <td>3.4</td>\n",
       "      <td>2</td>\n",
       "      <td>2</td>\n",
       "      <td>7</td>\n",
       "    </tr>\n",
       "    <tr>\n",
       "      <th>300</th>\n",
       "      <td>57</td>\n",
       "      <td>1</td>\n",
       "      <td>1</td>\n",
       "      <td>130</td>\n",
       "      <td>131</td>\n",
       "      <td>0</td>\n",
       "      <td>0</td>\n",
       "      <td>115</td>\n",
       "      <td>1</td>\n",
       "      <td>1.2</td>\n",
       "      <td>2</td>\n",
       "      <td>1</td>\n",
       "      <td>7</td>\n",
       "    </tr>\n",
       "    <tr>\n",
       "      <th>301</th>\n",
       "      <td>57</td>\n",
       "      <td>0</td>\n",
       "      <td>3</td>\n",
       "      <td>130</td>\n",
       "      <td>236</td>\n",
       "      <td>0</td>\n",
       "      <td>2</td>\n",
       "      <td>174</td>\n",
       "      <td>0</td>\n",
       "      <td>0.0</td>\n",
       "      <td>2</td>\n",
       "      <td>1</td>\n",
       "      <td>3</td>\n",
       "    </tr>\n",
       "  </tbody>\n",
       "</table>\n",
       "<p>297 rows × 13 columns</p>\n",
       "</div>"
      ],
      "text/plain": [
       "     Age  Sex  Chest Pain Type  Resting Blood Pressure  Serum Cholestoral  \\\n",
       "0     63    1                0                     145                233   \n",
       "1     67    1                1                     160                286   \n",
       "2     67    1                1                     120                229   \n",
       "3     37    1                2                     130                250   \n",
       "4     41    0                3                     130                204   \n",
       "..   ...  ...              ...                     ...                ...   \n",
       "297   57    0                1                     140                241   \n",
       "298   45    1                0                     110                264   \n",
       "299   68    1                1                     144                193   \n",
       "300   57    1                1                     130                131   \n",
       "301   57    0                3                     130                236   \n",
       "\n",
       "     Fasting Blood Sugar  Resting electrocardiographic results  \\\n",
       "0                      1                                     2   \n",
       "1                      0                                     2   \n",
       "2                      0                                     2   \n",
       "3                      0                                     0   \n",
       "4                      0                                     2   \n",
       "..                   ...                                   ...   \n",
       "297                    0                                     0   \n",
       "298                    0                                     0   \n",
       "299                    1                                     0   \n",
       "300                    0                                     0   \n",
       "301                    0                                     2   \n",
       "\n",
       "     Maximum heart rate achieved  Exercise induced angina  ST depression  \\\n",
       "0                            150                        0            2.3   \n",
       "1                            108                        1            1.5   \n",
       "2                            129                        1            2.6   \n",
       "3                            187                        0            3.5   \n",
       "4                            172                        0            1.4   \n",
       "..                           ...                      ...            ...   \n",
       "297                          123                        1            0.2   \n",
       "298                          132                        0            1.2   \n",
       "299                          141                        0            3.4   \n",
       "300                          115                        1            1.2   \n",
       "301                          174                        0            0.0   \n",
       "\n",
       "     the slope  Number of major vessels  thal  \n",
       "0            3                        0     6  \n",
       "1            2                        3     3  \n",
       "2            2                        2     7  \n",
       "3            3                        0     3  \n",
       "4            1                        0     3  \n",
       "..         ...                      ...   ...  \n",
       "297          2                        0     7  \n",
       "298          2                        0     7  \n",
       "299          2                        2     7  \n",
       "300          2                        1     7  \n",
       "301          2                        1     3  \n",
       "\n",
       "[297 rows x 13 columns]"
      ]
     },
     "execution_count": 13,
     "metadata": {},
     "output_type": "execute_result"
    }
   ],
   "source": [
    "df.iloc[:, :-1]"
   ]
  },
  {
   "cell_type": "code",
   "execution_count": 14,
   "metadata": {},
   "outputs": [],
   "source": [
    "X = df.iloc[:, :-1]\n",
    "y = df.iloc[:, -1]"
   ]
  },
  {
   "cell_type": "markdown",
   "metadata": {},
   "source": [
    "### Split the dataset and normalize data"
   ]
  },
  {
   "cell_type": "markdown",
   "metadata": {},
   "source": [
    "##### Split the training and testing dataset\n",
    "use 10% of dataset for testing with a random state of 1"
   ]
  },
  {
   "cell_type": "code",
   "execution_count": 15,
   "metadata": {},
   "outputs": [],
   "source": [
    "from sklearn.model_selection import train_test_split\n",
    "\n",
    "X_train, X_test, y_train, y_test = train_test_split(X, y, test_size=0.1, random_state=123)"
   ]
  },
  {
   "cell_type": "markdown",
   "metadata": {},
   "source": [
    "##### Apply normalization on both train and testing dataset"
   ]
  },
  {
   "cell_type": "code",
   "execution_count": 16,
   "metadata": {},
   "outputs": [],
   "source": [
    "from sklearn.preprocessing import normalize\n",
    "\n",
    "X_train = normalize(X_train)\n",
    "X_test = normalize(X_test)"
   ]
  },
  {
   "cell_type": "code",
   "execution_count": 17,
   "metadata": {},
   "outputs": [
    {
     "data": {
      "text/plain": [
       "array([[0.16416104, 0.00278239, 0.        , ..., 0.00834717, 0.        ,\n",
       "        0.01947673],\n",
       "       [0.17301833, 0.00332728, 0.00332728, ..., 0.00332728, 0.00998183,\n",
       "        0.02329093],\n",
       "       [0.09833165, 0.00252132, 0.00504265, ..., 0.00252132, 0.        ,\n",
       "        0.00756397],\n",
       "       ...,\n",
       "       [0.16644923, 0.00308239, 0.00308239, ..., 0.00308239, 0.        ,\n",
       "        0.00924718],\n",
       "       [0.22632717, 0.        , 0.00917543, ..., 0.00305848, 0.00305848,\n",
       "        0.00917543],\n",
       "       [0.15097326, 0.00314528, 0.00314528, ..., 0.00314528, 0.        ,\n",
       "        0.00943583]])"
      ]
     },
     "execution_count": 17,
     "metadata": {},
     "output_type": "execute_result"
    }
   ],
   "source": [
    "X_train"
   ]
  },
  {
   "cell_type": "code",
   "execution_count": 18,
   "metadata": {},
   "outputs": [
    {
     "data": {
      "text/plain": [
       "array([[1.59893953e-01, 0.00000000e+00, 3.01686703e-03, 3.92192714e-01,\n",
       "        7.96452896e-01, 0.00000000e+00, 6.03373406e-03, 4.31411985e-01,\n",
       "        0.00000000e+00, 1.20674681e-03, 6.03373406e-03, 0.00000000e+00,\n",
       "        9.05060109e-03],\n",
       "       [1.47647826e-01, 0.00000000e+00, 2.63656832e-03, 5.27313663e-01,\n",
       "        7.59331675e-01, 2.63656832e-03, 5.27313663e-03, 3.50663586e-01,\n",
       "        2.63656832e-03, 1.05462733e-02, 7.90970495e-03, 5.27313663e-03,\n",
       "        1.84559782e-02],\n",
       "       [2.07679543e-01, 3.51999225e-03, 3.51999225e-03, 4.92798915e-01,\n",
       "        6.23038628e-01, 0.00000000e+00, 0.00000000e+00, 5.70238745e-01,\n",
       "        3.51999225e-03, 0.00000000e+00, 3.51999225e-03, 3.51999225e-03,\n",
       "        2.46399458e-02],\n",
       "       [2.10045190e-01, 0.00000000e+00, 3.62146879e-03, 4.70790942e-01,\n",
       "        7.13429351e-01, 0.00000000e+00, 0.00000000e+00, 4.74412411e-01,\n",
       "        0.00000000e+00, 2.17288127e-03, 7.24293758e-03, 0.00000000e+00,\n",
       "        1.08644064e-02],\n",
       "       [1.22143241e-01, 3.05358103e-03, 3.05358103e-03, 4.64144316e-01,\n",
       "        6.80948569e-01, 0.00000000e+00, 0.00000000e+00, 5.52698166e-01,\n",
       "        0.00000000e+00, 0.00000000e+00, 3.05358103e-03, 0.00000000e+00,\n",
       "        2.13750672e-02],\n",
       "       [1.45969503e-01, 3.17325005e-03, 3.17325005e-03, 3.80790007e-01,\n",
       "        7.90139264e-01, 0.00000000e+00, 6.34650011e-03, 4.56948008e-01,\n",
       "        0.00000000e+00, 2.53860004e-03, 3.17325005e-03, 0.00000000e+00,\n",
       "        2.22127504e-02],\n",
       "       [2.13651741e-01, 0.00000000e+00, 0.00000000e+00, 4.33496287e-01,\n",
       "        7.40040090e-01, 0.00000000e+00, 0.00000000e+00, 4.67556709e-01,\n",
       "        0.00000000e+00, 5.57352369e-03, 3.09640205e-03, 6.19280410e-03,\n",
       "        9.28920615e-03],\n",
       "       [1.84357730e-01, 0.00000000e+00, 6.82806409e-03, 3.75543525e-01,\n",
       "        7.30602858e-01, 0.00000000e+00, 0.00000000e+00, 5.39417063e-01,\n",
       "        0.00000000e+00, 5.46245127e-03, 6.82806409e-03, 0.00000000e+00,\n",
       "        1.02420961e-02],\n",
       "       [1.53780771e-01, 0.00000000e+00, 8.23825560e-03, 3.84451928e-01,\n",
       "        8.07349049e-01, 0.00000000e+00, 5.49217040e-03, 4.20151036e-01,\n",
       "        0.00000000e+00, 3.56991076e-03, 5.49217040e-03, 0.00000000e+00,\n",
       "        8.23825560e-03],\n",
       "       [1.34854559e-01, 3.28913559e-03, 9.86740677e-03, 3.61804915e-01,\n",
       "        7.72946864e-01, 0.00000000e+00, 0.00000000e+00, 5.03237745e-01,\n",
       "        0.00000000e+00, 0.00000000e+00, 3.28913559e-03, 0.00000000e+00,\n",
       "        9.86740677e-03],\n",
       "       [1.67385647e-01, 3.63881841e-03, 1.09164552e-02, 3.67520660e-01,\n",
       "        7.16847227e-01, 3.63881841e-03, 0.00000000e+00, 5.67655672e-01,\n",
       "        0.00000000e+00, 0.00000000e+00, 3.63881841e-03, 0.00000000e+00,\n",
       "        2.54717289e-02],\n",
       "       [1.93801685e-01, 3.23002808e-03, 3.23002808e-03, 3.77913285e-01,\n",
       "        7.42906458e-01, 3.23002808e-03, 0.00000000e+00, 5.16804492e-01,\n",
       "        3.23002808e-03, 4.52203931e-03, 3.23002808e-03, 6.46005615e-03,\n",
       "        2.26101965e-02],\n",
       "       [1.78541980e-01, 0.00000000e+00, 2.87970935e-03, 3.97399890e-01,\n",
       "        8.46634548e-01, 2.87970935e-03, 0.00000000e+00, 3.05249191e-01,\n",
       "        0.00000000e+00, 5.47144776e-03, 5.75941870e-03, 8.63912804e-03,\n",
       "        8.63912804e-03],\n",
       "       [1.19334851e-01, 2.65188559e-03, 7.95565676e-03, 3.39441355e-01,\n",
       "        8.16780761e-01, 0.00000000e+00, 5.30377118e-03, 4.50820550e-01,\n",
       "        0.00000000e+00, 0.00000000e+00, 2.65188559e-03, 0.00000000e+00,\n",
       "        7.95565676e-03],\n",
       "       [1.71107435e-01, 4.27768588e-03, 4.27768588e-03, 4.70545447e-01,\n",
       "        7.14373542e-01, 0.00000000e+00, 8.55537176e-03, 4.87656190e-01,\n",
       "        4.27768588e-03, 8.55537176e-03, 8.55537176e-03, 0.00000000e+00,\n",
       "        2.99438012e-02],\n",
       "       [2.00866332e-01, 2.99800495e-03, 2.99800495e-03, 3.74750619e-01,\n",
       "        7.61493258e-01, 2.99800495e-03, 0.00000000e+00, 4.88674807e-01,\n",
       "        0.00000000e+00, 5.99600990e-04, 5.99600990e-03, 5.99600990e-03,\n",
       "        2.09860347e-02],\n",
       "       [1.96654789e-01, 3.17185143e-03, 3.17185143e-03, 3.80622172e-01,\n",
       "        8.46884333e-01, 0.00000000e+00, 0.00000000e+00, 3.14013292e-01,\n",
       "        3.17185143e-03, 5.70933258e-03, 6.34370287e-03, 6.34370287e-03,\n",
       "        2.22029600e-02],\n",
       "       [1.34649029e-01, 0.00000000e+00, 3.20592926e-03, 3.27004785e-01,\n",
       "        8.49571254e-01, 0.00000000e+00, 6.41185852e-03, 3.91123370e-01,\n",
       "        0.00000000e+00, 1.92355756e-03, 6.41185852e-03, 0.00000000e+00,\n",
       "        9.61778778e-03],\n",
       "       [2.19859555e-01, 0.00000000e+00, 6.19322689e-03, 3.40627479e-01,\n",
       "        8.20602563e-01, 3.09661344e-03, 6.19322689e-03, 4.02559748e-01,\n",
       "        0.00000000e+00, 0.00000000e+00, 3.09661344e-03, 3.09661344e-03,\n",
       "        9.28984033e-03],\n",
       "       [1.78527307e-01, 0.00000000e+00, 0.00000000e+00, 4.46318267e-01,\n",
       "        7.14109227e-01, 0.00000000e+00, 0.00000000e+00, 5.08802824e-01,\n",
       "        0.00000000e+00, 2.67790960e-03, 2.97545511e-03, 0.00000000e+00,\n",
       "        8.92636533e-03],\n",
       "       [1.31491501e-01, 3.28728753e-03, 0.00000000e+00, 4.60220255e-01,\n",
       "        6.54170219e-01, 0.00000000e+00, 0.00000000e+00, 5.85137181e-01,\n",
       "        3.28728753e-03, 4.60220255e-03, 3.28728753e-03, 0.00000000e+00,\n",
       "        2.30110127e-02],\n",
       "       [1.20548592e-01, 2.67885761e-03, 2.67885761e-03, 3.80397781e-01,\n",
       "        8.27767002e-01, 0.00000000e+00, 5.35771522e-03, 3.93792069e-01,\n",
       "        2.67885761e-03, 0.00000000e+00, 5.35771522e-03, 8.03657283e-03,\n",
       "        1.87520033e-02],\n",
       "       [1.43775496e-01, 3.26762490e-03, 9.80287471e-03, 3.92114988e-01,\n",
       "        7.18877479e-01, 0.00000000e+00, 0.00000000e+00, 5.55496234e-01,\n",
       "        0.00000000e+00, 0.00000000e+00, 3.26762490e-03, 0.00000000e+00,\n",
       "        9.80287471e-03],\n",
       "       [1.41386143e-01, 3.14191429e-03, 0.00000000e+00, 3.45610572e-01,\n",
       "        8.29465374e-01, 0.00000000e+00, 0.00000000e+00, 4.14732687e-01,\n",
       "        0.00000000e+00, 3.77029715e-03, 6.28382859e-03, 0.00000000e+00,\n",
       "        2.19934001e-02],\n",
       "       [1.93784270e-01, 2.89230254e-03, 2.89230254e-03, 2.89230254e-01,\n",
       "        8.64798460e-01, 0.00000000e+00, 5.78460509e-03, 3.61537818e-01,\n",
       "        2.89230254e-03, 2.60307229e-03, 5.78460509e-03, 5.78460509e-03,\n",
       "        8.67690763e-03],\n",
       "       [1.71855993e-01, 3.30492295e-03, 3.30492295e-03, 4.13115368e-01,\n",
       "        7.00643664e-01, 0.00000000e+00, 0.00000000e+00, 5.55227055e-01,\n",
       "        0.00000000e+00, 3.30492295e-03, 3.30492295e-03, 6.60984589e-03,\n",
       "        2.31344606e-02],\n",
       "       [1.88129058e-01, 3.30050979e-03, 3.30050979e-03, 4.35667292e-01,\n",
       "        6.83205526e-01, 0.00000000e+00, 0.00000000e+00, 5.54485644e-01,\n",
       "        3.30050979e-03, 0.00000000e+00, 3.30050979e-03, 0.00000000e+00,\n",
       "        2.31035685e-02],\n",
       "       [1.41854280e-01, 2.89498530e-03, 8.68495589e-03, 3.76348089e-01,\n",
       "        7.70066089e-01, 0.00000000e+00, 0.00000000e+00, 4.95042486e-01,\n",
       "        0.00000000e+00, 1.73699118e-03, 2.89498530e-03, 0.00000000e+00,\n",
       "        8.68495589e-03],\n",
       "       [1.56723222e-01, 3.01390812e-03, 3.01390812e-03, 3.85780240e-01,\n",
       "        7.68546572e-01, 0.00000000e+00, 0.00000000e+00, 4.85239208e-01,\n",
       "        3.01390812e-03, 0.00000000e+00, 3.01390812e-03, 3.01390812e-03,\n",
       "        2.10973569e-02],\n",
       "       [1.96434835e-01, 0.00000000e+00, 3.57154246e-03, 4.57157435e-01,\n",
       "        7.32166205e-01, 0.00000000e+00, 3.57154246e-03, 4.64300520e-01,\n",
       "        3.57154246e-03, 7.14308492e-03, 7.14308492e-03, 3.57154246e-03,\n",
       "        2.50007972e-02]])"
      ]
     },
     "execution_count": 18,
     "metadata": {},
     "output_type": "execute_result"
    }
   ],
   "source": [
    "X_test"
   ]
  },
  {
   "cell_type": "markdown",
   "metadata": {},
   "source": [
    "### Now we are learning how to train a model with logistic regression and SVM for classification, based on entire training dataset and then evaluate the model based on testing dataset\n",
    "Be aware that, for regression model, the default evaluation metrics is R Squared. For regression task, the default evaluation metrics is accuracy"
   ]
  },
  {
   "cell_type": "code",
   "execution_count": 19,
   "metadata": {},
   "outputs": [
    {
     "name": "stdout",
     "output_type": "stream",
     "text": [
      "Testing Accuracy of LR: 0.6\n",
      "Testing Accuracy of SVC: 0.5666666666666667\n"
     ]
    }
   ],
   "source": [
    "from sklearn.linear_model import LogisticRegression\n",
    "from sklearn.svm import SVC\n",
    "\n",
    "# logistic regression model, parameters can be changed\n",
    "model = LogisticRegression(solver=\"liblinear\")\n",
    "model.fit(X_train, y_train)\n",
    "test_score = model.score(X_test, y_test)\n",
    "print(\"Testing Accuracy of LR:\", test_score)\n",
    "\n",
    "# Support Vector Machine for classification, parameters can be changed\n",
    "model = SVC()\n",
    "model.fit(X_train, y_train)\n",
    "test_score = model.score(X_test, y_test)\n",
    "print(\"Testing Accuracy of SVC:\", test_score)"
   ]
  },
  {
   "cell_type": "markdown",
   "metadata": {},
   "source": [
    "### Train a model with 5-fold cross valiation"
   ]
  },
  {
   "cell_type": "markdown",
   "metadata": {},
   "source": [
    "##### Define a 5 fold cross validation with data shufflling and set the random state with 2"
   ]
  },
  {
   "cell_type": "code",
   "execution_count": 20,
   "metadata": {},
   "outputs": [
    {
     "data": {
      "text/plain": [
       "5"
      ]
     },
     "execution_count": 20,
     "metadata": {},
     "output_type": "execute_result"
    }
   ],
   "source": [
    "from sklearn.model_selection import KFold\n",
    "\n",
    "kf = KFold(n_splits=5, shuffle=True, random_state=2)\n",
    "kf.get_n_splits(X)"
   ]
  },
  {
   "cell_type": "markdown",
   "metadata": {},
   "source": [
    "##### Run the 5-fold cross validation and print the average accuracy score based on the cross validation results, and evaluate both model on the testing dataset"
   ]
  },
  {
   "cell_type": "code",
   "execution_count": 21,
   "metadata": {},
   "outputs": [
    {
     "data": {
      "text/plain": [
       "array([0.66666667, 0.33333333, 0.16666667, 0.33333333, 0.16666667])"
      ]
     },
     "execution_count": 21,
     "metadata": {},
     "output_type": "execute_result"
    }
   ],
   "source": [
    "from sklearn.model_selection import cross_val_score\n",
    "\n",
    "scores = cross_val_score(model, X_test, y_test, cv=kf)\n",
    "\n",
    "scores"
   ]
  },
  {
   "cell_type": "markdown",
   "metadata": {},
   "source": [
    "### Optimize the Logistic Regression models with cross validation\n",
    "The parameters that can be applied in grid_params can be found here: https://scikit-learn.org/stable/modules/generated/sklearn.linear_model.LogisticRegression.html You can add values and parameters in the grid_params_lr."
   ]
  },
  {
   "cell_type": "code",
   "execution_count": 22,
   "metadata": {},
   "outputs": [
    {
     "name": "stderr",
     "output_type": "stream",
     "text": [
      "/home/vin/Documents/assignments/computational-intelligence/week4-lab/venv/lib/python3.11/site-packages/sklearn/linear_model/_sag.py:350: ConvergenceWarning: The max_iter was reached which means the coef_ did not converge\n",
      "  warnings.warn(\n",
      "/home/vin/Documents/assignments/computational-intelligence/week4-lab/venv/lib/python3.11/site-packages/sklearn/linear_model/_sag.py:350: ConvergenceWarning: The max_iter was reached which means the coef_ did not converge\n",
      "  warnings.warn(\n",
      "/home/vin/Documents/assignments/computational-intelligence/week4-lab/venv/lib/python3.11/site-packages/sklearn/linear_model/_sag.py:350: ConvergenceWarning: The max_iter was reached which means the coef_ did not converge\n",
      "  warnings.warn(\n",
      "/home/vin/Documents/assignments/computational-intelligence/week4-lab/venv/lib/python3.11/site-packages/sklearn/linear_model/_sag.py:350: ConvergenceWarning: The max_iter was reached which means the coef_ did not converge\n",
      "  warnings.warn(\n",
      "/home/vin/Documents/assignments/computational-intelligence/week4-lab/venv/lib/python3.11/site-packages/sklearn/linear_model/_sag.py:350: ConvergenceWarning: The max_iter was reached which means the coef_ did not converge\n",
      "  warnings.warn(\n"
     ]
    },
    {
     "name": "stdout",
     "output_type": "stream",
     "text": [
      "0.7193570929419986\n"
     ]
    }
   ],
   "source": [
    "# fine tune parameters for lr model\n",
    "from sklearn.model_selection import GridSearchCV\n",
    "\n",
    "grid_params_lr = {\n",
    "    'penalty': ['l1', 'l2'],\n",
    "    'C': [1, 10],\n",
    "    'solver': ['saga', 'liblinear']\n",
    "}\n",
    "\n",
    "lr = LogisticRegression(max_iter=150)\n",
    "gs_lr_result = GridSearchCV(lr, grid_params_lr, cv=kf).fit(X_train, y_train)\n",
    "print(gs_lr_result.best_score_)"
   ]
  },
  {
   "cell_type": "markdown",
   "metadata": {},
   "source": [
    "### Evaluate the trained Logistic Regression model using testing dataset"
   ]
  },
  {
   "cell_type": "code",
   "execution_count": 23,
   "metadata": {},
   "outputs": [
    {
     "data": {
      "text/plain": [
       "array([0.66666667, 0.5       , 0.5       , 0.5       , 0.5       ])"
      ]
     },
     "execution_count": 23,
     "metadata": {},
     "output_type": "execute_result"
    }
   ],
   "source": [
    "scores = cross_val_score(gs_lr_result.best_estimator_, X_test, y_test, cv=kf)\n",
    "\n",
    "scores"
   ]
  },
  {
   "cell_type": "markdown",
   "metadata": {},
   "source": [
    "check the parameter setting for the best selected model"
   ]
  },
  {
   "cell_type": "code",
   "execution_count": 24,
   "metadata": {},
   "outputs": [
    {
     "data": {
      "text/plain": [
       "{'C': 10, 'penalty': 'l1', 'solver': 'liblinear'}"
      ]
     },
     "execution_count": 24,
     "metadata": {},
     "output_type": "execute_result"
    }
   ],
   "source": [
    "gs_lr_result.best_params_"
   ]
  },
  {
   "cell_type": "markdown",
   "metadata": {},
   "source": [
    "### Optimize the SVM models with the same steps\n",
    "Parameters for SVM model can be found here: https://scikit-learn.org/stable/modules/generated/sklearn.svm.SVC.html"
   ]
  },
  {
   "cell_type": "markdown",
   "metadata": {},
   "source": [
    "Evaluate the trained Logistic Regression model using testing dataset"
   ]
  },
  {
   "cell_type": "code",
   "execution_count": 25,
   "metadata": {},
   "outputs": [
    {
     "name": "stdout",
     "output_type": "stream",
     "text": [
      "0.715863032844165\n"
     ]
    }
   ],
   "source": [
    "grid_params_svm = {\n",
    "    'kernel': ['poly', 'rbf', 'sigmoid'],\n",
    "    'C': [i for i in range(1, 11)],\n",
    "    'gamma': ['scale', 'auto'],\n",
    "}\n",
    "\n",
    "gs_svm_result = GridSearchCV(model, grid_params_svm, cv=kf).fit(X_train, y_train)\n",
    "print(gs_svm_result.best_score_)"
   ]
  },
  {
   "cell_type": "markdown",
   "metadata": {},
   "source": [
    "check the parameter setting for the best selected model"
   ]
  },
  {
   "cell_type": "code",
   "execution_count": 26,
   "metadata": {},
   "outputs": [
    {
     "data": {
      "text/plain": [
       "{'C': 7, 'gamma': 'scale', 'kernel': 'poly'}"
      ]
     },
     "execution_count": 26,
     "metadata": {},
     "output_type": "execute_result"
    }
   ],
   "source": [
    "gs_svm_result.best_params_"
   ]
  },
  {
   "cell_type": "code",
   "execution_count": null,
   "metadata": {},
   "outputs": [],
   "source": []
  }
 ],
 "metadata": {
  "kernelspec": {
   "display_name": "Python 3",
   "language": "python",
   "name": "python3"
  },
  "language_info": {
   "codemirror_mode": {
    "name": "ipython",
    "version": 3
   },
   "file_extension": ".py",
   "mimetype": "text/x-python",
   "name": "python",
   "nbconvert_exporter": "python",
   "pygments_lexer": "ipython3",
   "version": "3.11.7"
  }
 },
 "nbformat": 4,
 "nbformat_minor": 4
}
